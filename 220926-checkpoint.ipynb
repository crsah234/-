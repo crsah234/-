{
 "cells": [
  {
   "cell_type": "code",
   "execution_count": 3,
   "id": "c15f7c45",
   "metadata": {},
   "outputs": [
    {
     "name": "stdout",
     "output_type": "stream",
     "text": [
      "['癤풱pecies', 'Weight', 'Length1', 'Length2', 'Length3', 'Height', 'Width']\n",
      "['Bream', '242', '23.2', '25.4', '30', '11.52', '4.02']\n"
     ]
    }
   ],
   "source": [
    "import csv\n",
    "f = open('Fish.csv') # 스트림 생성\n",
    "data = csv.reader(f) # 리더기\n",
    "\n",
    "# 헤더부분 따로 빼기 next()\n",
    "header = next(data)\n",
    "print(header)\n",
    "\n",
    "\n",
    "for row in data : \n",
    "    print(row)\n",
    "    break\n",
    "f.close()"
   ]
  },
  {
   "cell_type": "code",
   "execution_count": null,
   "id": "9fdddf21",
   "metadata": {},
   "outputs": [],
   "source": [
    "도미 데이터 준비하기"
   ]
  },
  {
   "cell_type": "code",
   "execution_count": 8,
   "id": "43c7ffb2",
   "metadata": {},
   "outputs": [
    {
     "name": "stdout",
     "output_type": "stream",
     "text": [
      "도미의 무게 : [242.0, 290.0, 340.0, 363.0, 430.0, 450.0, 500.0, 390.0, 450.0, 500.0, 475.0, 500.0, 500.0, 340.0, 600.0, 600.0, 700.0, 700.0, 610.0, 650.0, 575.0, 685.0, 620.0, 680.0, 700.0, 725.0, 720.0, 714.0, 850.0, 1000.0, 920.0, 955.0, 925.0, 975.0, 950.0]\n",
      "도미의 길이 : [25.4, 26.3, 26.5, 29.0, 29.0, 29.7, 29.7, 30.0, 30.0, 30.7, 31.0, 31.0, 31.5, 32.0, 32.0, 32.0, 33.0, 33.0, 33.5, 33.5, 34.0, 34.0, 34.5, 35.0, 35.0, 35.0, 35.0, 36.0, 36.0, 37.0, 38.5, 38.5, 39.5, 41.0, 41.0]\n",
      "빙어의 무게 : [6.7, 7.5, 7.0, 9.7, 9.8, 8.7, 10.0, 9.9, 9.8, 12.2, 13.4, 12.2, 19.7, 19.9]\n",
      "빙어의 길이 : [9.8, 10.5, 10.6, 11.0, 11.2, 11.3, 11.8, 11.8, 12.0, 12.2, 12.4, 13.0, 14.3, 15.0]\n"
     ]
    }
   ],
   "source": [
    "import csv\n",
    "f = open('Fish.csv') # 스트림 생성\n",
    "data = csv.reader(f) # 리더기\n",
    "\n",
    "header = next(data)\n",
    "\n",
    "# 도미\n",
    "bream_weight=[]\n",
    "bream_length=[]\n",
    "\n",
    "# 빙어\n",
    "smelt_weight=[]\n",
    "smelt_length=[]\n",
    "\n",
    "for row in data : \n",
    "    if row[0]=='Bream': # Bream 도미 이면\n",
    "        row[1]=float(row[1]) # string -> float\n",
    "        row[3]=float(row[3]) # string -> float\n",
    "        bream_weight.append(row[1]) # 무게 빼오기\n",
    "        bream_length.append(row[3]) # 길이 빼오기 \n",
    "        \n",
    "    elif row[0]=='Smelt': # 빙어\n",
    "        row[1]=float(row[1]) # string -> float\n",
    "        row[3]=float(row[3]) # string -> float\n",
    "        smelt_weight.append(row[1]) # 무게 빼오기\n",
    "        smelt_length.append(row[3]) # 길이 빼오기\n",
    "f.close()\n",
    "\n",
    "print('도미의 무게 :', bream_weight)\n",
    "print('도미의 길이 :', bream_length)\n",
    "print('빙어의 무게 :', smelt_weight)\n",
    "print('빙어의 길이 :', smelt_length)"
   ]
  },
  {
   "cell_type": "code",
   "execution_count": null,
   "id": "a2a8d245",
   "metadata": {},
   "outputs": [],
   "source": [
    "matplotlib 라이브러리"
   ]
  },
  {
   "cell_type": "code",
   "execution_count": 21,
   "id": "a165a241",
   "metadata": {},
   "outputs": [
    {
     "data": {
      "image/png": "[encoded data removed]",
      "text/plain": [
       "<Figure size 432x288 with 1 Axes>"
      ]
     },
     "metadata": {
      "needs_background": "light"
     },
     "output_type": "display_data"
    }
   ],
   "source": [
    "import matplotlib.pyplot as plt # as -> alias, 별명으로 부르겠다.\n",
    "\n",
    "# 점 -> 산포하다.\n",
    "# 산 점 도 ->  scatter plot\n",
    "  # 폰트 속성 변경하기(한글)\n",
    "plt.rc('font',family=\"Malgun Gothic\")# 맑은 고딕\n",
    "plt.scatter(bream_length, bream_weight, label='도미') # 가로 : 길이 ,세로 : 무게, label 이름\n",
    "plt.scatter(smelt_length, smelt_weight, label='빙어')\n",
    "  # 그래프 제목 지정하기\n",
    "plt.title('도미와 빙어의 데이터 분포')\n",
    "# 축의 정보\n",
    "plt.xlabel('length[cm]')\n",
    "plt.ylabel('weight[g]')\n",
    "# 범례?\n",
    "plt.legend()\n",
    "# 격자 추가하기\n",
    "plt.grid(True)\n",
    "plt.show()\n"
   ]
  },
  {
   "cell_type": "code",
   "execution_count": 22,
   "id": "af75bdf3",
   "metadata": {},
   "outputs": [
    {
     "name": "stdout",
     "output_type": "stream",
     "text": [
      "도미의 마리수 35\n",
      "빙어의 마리수 14\n"
     ]
    }
   ],
   "source": [
    "# 개수, 길이 구하는 함수 len()\n",
    "print('도미의 마리수',len(bream_weight))\n",
    "print('빙어의 마리수', len(smelt_length))"
   ]
  },
  {
   "cell_type": "code",
   "execution_count": 23,
   "id": "15dd9256",
   "metadata": {},
   "outputs": [
    {
     "name": "stdout",
     "output_type": "stream",
     "text": [
      "총 생수의 수 : 49\n",
      "[242.0, 290.0, 340.0, 363.0, 430.0, 450.0, 500.0, 390.0, 450.0, 500.0, 475.0, 500.0, 500.0, 340.0, 600.0, 600.0, 700.0, 700.0, 610.0, 650.0, 575.0, 685.0, 620.0, 680.0, 700.0, 725.0, 720.0, 714.0, 850.0, 1000.0, 920.0, 955.0, 925.0, 975.0, 950.0, 6.7, 7.5, 7.0, 9.7, 9.8, 8.7, 10.0, 9.9, 9.8, 12.2, 13.4, 12.2, 19.7, 19.9]\n"
     ]
    }
   ],
   "source": [
    "length= bream_length + smelt_length\n",
    "weight= bream_weight + smelt_weight\n",
    "\n",
    "print('총 생수의 수 :', len(length))\n",
    "print(weight)"
   ]
  },
  {
   "cell_type": "code",
   "execution_count": 24,
   "id": "c99468b1",
   "metadata": {},
   "outputs": [
    {
     "name": "stdout",
     "output_type": "stream",
     "text": [
      "[[25.4, 242.0], [26.3, 290.0], [26.5, 340.0], [29.0, 363.0], [29.0, 430.0], [29.7, 450.0], [29.7, 500.0], [30.0, 390.0], [30.0, 450.0], [30.7, 500.0], [31.0, 475.0], [31.0, 500.0], [31.5, 500.0], [32.0, 340.0], [32.0, 600.0], [32.0, 600.0], [33.0, 700.0], [33.0, 700.0], [33.5, 610.0], [33.5, 650.0], [34.0, 575.0], [34.0, 685.0], [34.5, 620.0], [35.0, 680.0], [35.0, 700.0], [35.0, 725.0], [35.0, 720.0], [36.0, 714.0], [36.0, 850.0], [37.0, 1000.0], [38.5, 920.0], [38.5, 955.0], [39.5, 925.0], [41.0, 975.0], [41.0, 950.0], [9.8, 6.7], [10.5, 7.5], [10.6, 7.0], [11.0, 9.7], [11.2, 9.8], [11.3, 8.7], [11.8, 10.0], [11.8, 9.9], [12.0, 9.8], [12.2, 12.2], [12.4, 13.4], [13.0, 12.2], [14.3, 19.7], [15.0, 19.9]]\n"
     ]
    }
   ],
   "source": [
    "# lecture 8, 25pg의 데이터 형태 확인.\n",
    "fish_data=[[l,w] for l,w in zip(length,weight)] # 이러한 형식으로 데이터 셋을 하겠다.\n",
    "print(fish_data)"
   ]
  },
  {
   "cell_type": "code",
   "execution_count": null,
   "id": "0f1ea6e3",
   "metadata": {},
   "outputs": [],
   "source": [
    "정답 Label (y) 데이터 만들기"
   ]
  },
  {
   "cell_type": "code",
   "execution_count": 26,
   "id": "2fcfd28c",
   "metadata": {},
   "outputs": [
    {
     "name": "stdout",
     "output_type": "stream",
     "text": [
      "[1, 1, 1, 1, 1, 1, 1, 1, 1, 1, 1, 1, 1, 1, 1, 1, 1, 1, 1, 1, 1, 1, 1, 1, 1, 1, 1, 1, 1, 1, 1, 1, 1, 1, 1, 0, 0, 0, 0, 0, 0, 0, 0, 0, 0, 0, 0, 0, 0]\n",
      "길이 49\n"
     ]
    }
   ],
   "source": [
    "# 도미 -> 1 , 빙어 ->0 이라고 부르기로하자.\n",
    "fish_target = [1] * 35 + [0]*14\n",
    "\n",
    "print(fish_target)\n",
    "print('길이',len(fish_target))"
   ]
  },
  {
   "cell_type": "code",
   "execution_count": null,
   "id": "82c65826",
   "metadata": {},
   "outputs": [],
   "source": [
    "kkn 학습시키기"
   ]
  },
  {
   "cell_type": "code",
   "execution_count": 1,
   "id": "99067267",
   "metadata": {},
   "outputs": [
    {
     "ename": "ModuleNotFoundError",
     "evalue": "No module named 'sklearn'",
     "output_type": "error",
     "traceback": [
      "\u001b[0;31m---------------------------------------------------------------------------\u001b[0m",
      "\u001b[0;31mModuleNotFoundError\u001b[0m                       Traceback (most recent call last)",
      "Cell \u001b[0;32mIn [1], line 2\u001b[0m\n\u001b[1;32m      1\u001b[0m \u001b[38;5;66;03m# sci-kit learn\u001b[39;00m\n\u001b[0;32m----> 2\u001b[0m \u001b[38;5;28;01mfrom\u001b[39;00m \u001b[38;5;21;01msklearn\u001b[39;00m\u001b[38;5;21;01m.\u001b[39;00m\u001b[38;5;21;01mneighbors\u001b[39;00m \u001b[38;5;28;01mimport\u001b[39;00m KNeighborsClassifier\n\u001b[1;32m      4\u001b[0m kn \u001b[38;5;241m=\u001b[39m KNeighborsClassifier()\n",
      "\u001b[0;31mModuleNotFoundError\u001b[0m: No module named 'sklearn'"
     ]
    }
   ],
   "source": [
    "# sci-kit learn\n",
    "from sklearn.neighbors import KNeighborsClassifier\n",
    "\n",
    "kn = KNeighborsClassifier()\n",
    "# 실행"
   ]
  },
  {
   "cell_type": "code",
   "execution_count": 28,
   "id": "ef59a86e",
   "metadata": {},
   "outputs": [
    {
     "data": {
      "text/plain": [
       "KNeighborsClassifier()"
      ]
     },
     "execution_count": 28,
     "metadata": {},
     "output_type": "execute_result"
    }
   ],
   "source": [
    "kn.fit(fish_data,fish_target)\n",
    "# 학습시키기. 완료시  KNeighborsClassifier() 출력"
   ]
  },
  {
   "cell_type": "code",
   "execution_count": 29,
   "id": "c8f9ea54",
   "metadata": {},
   "outputs": [
    {
     "data": {
      "text/plain": [
       "1.0"
      ]
     },
     "execution_count": 29,
     "metadata": {},
     "output_type": "execute_result"
    }
   ],
   "source": [
    "# 학습되었는지 확인하기 - > 모델 평가하는 score()메서드 -> 정확도 판단함.\n",
    "kn.score(fish_data,fish_target)"
   ]
  },
  {
   "cell_type": "code",
   "execution_count": 35,
   "id": "6890fb84",
   "metadata": {},
   "outputs": [
    {
     "data": {
      "image/png": "[encoded data removed]",
      "text/plain": [
       "<Figure size 432x288 with 1 Axes>"
      ]
     },
     "metadata": {
      "needs_background": "light"
     },
     "output_type": "display_data"
    }
   ],
   "source": [
    "import matplotlib.pyplot as plt # as -> alias, 별명으로 부르겠다.\n",
    "\n",
    "\n",
    "plt.rc('font',family=\"Malgun Gothic\")# 맑은 고딕\n",
    "plt.scatter(bream_length, bream_weight, label='도미') # 가로 : 길이 ,세로 : 무게, label 이름\n",
    "plt.scatter(smelt_length, smelt_weight, label='빙어')\n",
    "#정체불명의 생선 넣어보기\n",
    "plt.scatter(30,600,label=\"새로운 데이터\",color=\"pink\")\n",
    "\n",
    "plt.title('도미와 빙어의 데이터 분포')\n",
    "\n",
    "plt.xlabel('length[cm]')\n",
    "plt.ylabel('weight[g]')\n",
    "\n",
    "plt.legend()\n",
    "\n",
    "plt.grid(True)\n",
    "plt.show()"
   ]
  },
  {
   "cell_type": "code",
   "execution_count": 40,
   "id": "8a13243f",
   "metadata": {},
   "outputs": [
    {
     "name": "stdout",
     "output_type": "stream",
     "text": [
      "도미입니다\n"
     ]
    }
   ],
   "source": [
    "# 미지의값을 넣어줄테니 예측해서 레이블값을 출력하여라\n",
    "a= kn.predict([[30,600]])\n",
    "\n",
    "# 도미 -> 1 , 빙어 ->0 이라고 부르기로하자.\n",
    "if a == 1:\n",
    "    print(\"도미입니다\")\n",
    "elif a==0:\n",
    "    print(\"빙어입니다\")"
   ]
  },
  {
   "cell_type": "code",
   "execution_count": null,
   "id": "0709d17e",
   "metadata": {},
   "outputs": [],
   "source": []
  },
  {
   "cell_type": "code",
   "execution_count": null,
   "id": "3f9a9054",
   "metadata": {},
   "outputs": [],
   "source": []
  },
  {
   "cell_type": "code",
   "execution_count": null,
   "id": "bf5ef558",
   "metadata": {},
   "outputs": [],
   "source": []
  },
  {
   "cell_type": "code",
   "execution_count": null,
   "id": "eb2db39d",
   "metadata": {},
   "outputs": [],
   "source": []
  }
 ],
 "metadata": {
  "kernelspec": {
   "display_name": "Python 3 (ipykernel)",
   "language": "python",
   "name": "python3"
  },
  "language_info": {
   "codemirror_mode": {
    "name": "ipython",
    "version": 3
   },
   "file_extension": ".py",
   "mimetype": "text/x-python",
   "name": "python",
   "nbconvert_exporter": "python",
   "pygments_lexer": "ipython3",
   "version": "3.10.6"
  }
 },
 "nbformat": 4,
 "nbformat_minor": 5
}
